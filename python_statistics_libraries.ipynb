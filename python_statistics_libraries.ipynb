{
  "nbformat": 4,
  "nbformat_minor": 0,
  "metadata": {
    "colab": {
      "provenance": [],
      "toc_visible": true,
      "authorship_tag": "ABX9TyPwlP8/AIbagfkrKXttetDV",
      "include_colab_link": true
    },
    "kernelspec": {
      "name": "python3",
      "display_name": "Python 3"
    },
    "language_info": {
      "name": "python"
    }
  },
  "cells": [
    {
      "cell_type": "markdown",
      "metadata": {
        "id": "view-in-github",
        "colab_type": "text"
      },
      "source": [
        "<a href=\"https://colab.research.google.com/github/sireesha733/-sum-product-and-dict-with-single-input-problem-sum-of-natural-numbers-and-factorial-numbers/blob/main/python_statistics_libraries.ipynb\" target=\"_parent\"><img src=\"https://colab.research.google.com/assets/colab-badge.svg\" alt=\"Open In Colab\"/></a>"
      ]
    },
    {
      "cell_type": "code",
      "execution_count": null,
      "metadata": {
        "colab": {
          "base_uri": "https://localhost:8080/"
        },
        "id": "9KBhXtNuXSti",
        "outputId": "75687288-fdfc-465f-fd51-650587c3b50c"
      },
      "outputs": [
        {
          "output_type": "stream",
          "name": "stdout",
          "text": [
            "3.415650255319866\n",
            "0.6322358912796886\n",
            "7.287146217827662\n",
            "36.09276243237694\n"
          ]
        }
      ],
      "source": [
        "import statistics\n",
        "print(statistics.pstdev([1,3,5,7,9,11]))\n",
        "print(statistics.pstdev([2,2.5,1.25,3.1,1.75,2.8]))\n",
        "print(statistics.pstdev([-11,5.5, -3.4,7.1]))\n",
        "print(statistics.pstdev([1,30,50,100]))"
      ]
    },
    {
      "cell_type": "code",
      "source": [
        "# Import statistics Library\n",
        "import statistics\n",
        "\n",
        "# Calculate the standard deviation from a sample of data\n",
        "print(statistics.stdev([1, 3, 5, 7, 9, 11]))\n",
        "print(statistics.stdev([2, 2.5, 1.25, 3.1, 1.75, 2.8]))\n",
        "print(statistics.stdev([-11, 5.5, -3.4, 7.1]))\n",
        "print(statistics.stdev([1, 30, 50, 100]))\n"
      ],
      "metadata": {
        "colab": {
          "base_uri": "https://localhost:8080/"
        },
        "id": "FTOKXdAdZV5S",
        "outputId": "9198ba87-e191-443b-8c36-4bc4734a74df"
      },
      "execution_count": null,
      "outputs": [
        {
          "output_type": "stream",
          "name": "stdout",
          "text": [
            "3.7416573867739413\n",
            "0.6925797186365383\n",
            "8.414471660973927\n",
            "41.67633221226008\n"
          ]
        }
      ]
    },
    {
      "cell_type": "code",
      "source": [
        "# Import statistics Library\n",
        "import statistics\n",
        "\n",
        "# Calculate the variance of an entire population\n",
        "print(statistics.pvariance([1, 3, 5, 7, 9, 11]))\n",
        "print(statistics.pvariance([2, 2.5, 1.25, 3.1, 1.75, 2.8]))\n",
        "print(statistics.pvariance([-11, 5.5, -3.4, 7.1]))\n",
        "print(statistics.pvariance([1, 30, 50, 100]))\n"
      ],
      "metadata": {
        "colab": {
          "base_uri": "https://localhost:8080/"
        },
        "id": "TDICzpOzaCcr",
        "outputId": "e56eaa9d-9ebc-418c-c62e-09b9d8b9a231"
      },
      "execution_count": null,
      "outputs": [
        {
          "output_type": "stream",
          "name": "stdout",
          "text": [
            "11.666666666666666\n",
            "0.3997222222222222\n",
            "53.1025\n",
            "1302.6875\n"
          ]
        }
      ]
    },
    {
      "cell_type": "code",
      "source": [
        "# Import statistics Library\n",
        "import statistics\n",
        "\n",
        "# Calculate the variance from a sample of data\n",
        "print(statistics.variance([1, 3, 5, 7, 9, 11]))\n",
        "print(statistics.variance([2, 2.5, 1.25, 3.1, 1.75, 2.8]))\n",
        "print(statistics.variance([-11, 5.5, -3.4, 7.1]))\n",
        "print(statistics.variance([1, 30, 50, 100]))\n"
      ],
      "metadata": {
        "colab": {
          "base_uri": "https://localhost:8080/"
        },
        "id": "qirkPGTwaF3h",
        "outputId": "2c5fb12b-1e01-4d40-db0f-44815d4e82b0"
      },
      "execution_count": null,
      "outputs": [
        {
          "output_type": "stream",
          "name": "stdout",
          "text": [
            "14\n",
            "0.47966666666666663\n",
            "70.80333333333333\n",
            "1736.9166666666667\n"
          ]
        }
      ]
    },
    {
      "cell_type": "code",
      "source": [
        "import pandas as pd\n",
        "df=pd.read_csv(\"/content/ml.csv\")\n",
        "df.fillna(130,inplace=True)\n",
        "print(df.to_string())"
      ],
      "metadata": {
        "colab": {
          "base_uri": "https://localhost:8080/"
        },
        "id": "sFPI-2eWaZD5",
        "outputId": "a94ee96f-56fd-464f-ebbd-0cf7ca03a24b"
      },
      "execution_count": null,
      "outputs": [
        {
          "output_type": "stream",
          "name": "stdout",
          "text": [
            "    Duration          Date  Pulse  Maxpulse  Calories\n",
            "0         60  '2020/12/01'    110       130     409.1\n",
            "1         60  '2020/12/02'    117       145     479.0\n",
            "2         60  '2020/12/03'    103       135     340.0\n",
            "3         45  '2020/12/04'    109       175     282.4\n",
            "4         45  '2020/12/05'    117       148     406.0\n",
            "5         60  '2020/12/06'    102       127     300.0\n",
            "6         60  '2020/12/07'    110       136     374.0\n",
            "7        450  '2020/12/08'    104       134     253.3\n",
            "8         30  '2020/12/09'    109       133     195.1\n",
            "9         60  '2020/12/10'     98       124     269.0\n",
            "10        60  '2020/12/11'    103       147     329.3\n",
            "11        60  '2020/12/12'    100       120     250.7\n",
            "12        60  '2020/12/12'    100       120     250.7\n",
            "13        60  '2020/12/13'    106       128     345.3\n",
            "14        60  '2020/12/14'    104       132     379.3\n",
            "15        60  '2020/12/15'     98       123     275.0\n",
            "16        60  '2020/12/16'     98       120     215.2\n",
            "17        60  '2020/12/17'    100       120     300.0\n",
            "18        45  '2020/12/18'     90       112     130.0\n",
            "19        60  '2020/12/19'    103       123     323.0\n",
            "20        45  '2020/12/20'     97       125     243.0\n",
            "21        60  '2020/12/21'    108       131     364.2\n",
            "22        45           130    100       119     282.0\n",
            "23        60  '2020/12/23'    130       101     300.0\n",
            "24        45  '2020/12/24'    105       132     246.0\n",
            "25        60  '2020/12/25'    102       126     334.5\n",
            "26        60      20201226    100       120     250.0\n",
            "27        60  '2020/12/27'     92       118     241.0\n",
            "28        60  '2020/12/28'    103       132     130.0\n",
            "29        60  '2020/12/29'    100       132     280.0\n",
            "30        60  '2020/12/30'    102       129     380.3\n",
            "31        60  '2020/12/31'     92       115     243.0\n"
          ]
        }
      ]
    },
    {
      "cell_type": "code",
      "source": [
        "import math\n",
        "print(math.ceil(1.4))\n",
        "print(math.ceil(5.3))\n",
        "print(math.ceil(-5.3))\n",
        "print(math.ceil(22.))\n",
        "print(math.ceil(10.0))\n"
      ],
      "metadata": {
        "colab": {
          "base_uri": "https://localhost:8080/"
        },
        "id": "CuU6PMdYdP-m",
        "outputId": "311bff37-141d-4b7c-bfb0-9b2524acac32"
      },
      "execution_count": null,
      "outputs": [
        {
          "output_type": "stream",
          "name": "stdout",
          "text": [
            "2\n",
            "6\n",
            "-5\n",
            "22\n",
            "10\n"
          ]
        }
      ]
    },
    {
      "cell_type": "code",
      "source": [
        "import math\n",
        "print(math.factorial(9))\n",
        "print(math.factorial(6))\n",
        "print(math.factorial(12))"
      ],
      "metadata": {
        "colab": {
          "base_uri": "https://localhost:8080/"
        },
        "id": "pQ8Mmz4Bd77B",
        "outputId": "29ce796f-9443-4748-8f9d-065d1a24f247"
      },
      "execution_count": null,
      "outputs": [
        {
          "output_type": "stream",
          "name": "stdout",
          "text": [
            "362880\n",
            "720\n",
            "479001600\n"
          ]
        }
      ]
    },
    {
      "cell_type": "code",
      "source": [
        "import math\n",
        "print(math.floor(0.6))\n",
        "print(math.floor(1.4))\n",
        "print(math.floor(5.3))\n",
        "print(math.floor(-5.3))\n",
        "print(math.floor(22.6))\n",
        "print(math.floor(10.0))"
      ],
      "metadata": {
        "colab": {
          "base_uri": "https://localhost:8080/"
        },
        "id": "UNl2ME7aepdG",
        "outputId": "1baf607b-e6ec-46a7-8e57-eb8f5bb5d058"
      },
      "execution_count": null,
      "outputs": [
        {
          "output_type": "stream",
          "name": "stdout",
          "text": [
            "0\n",
            "1\n",
            "5\n",
            "-6\n",
            "22\n",
            "10\n"
          ]
        }
      ]
    },
    {
      "cell_type": "code",
      "source": [
        "import math\n",
        "print (math.gcd(3, 6))\n",
        "print (math.gcd(6, 12))\n",
        "print (math.gcd(12, 36))\n",
        "print (math.gcd(-12, -36))\n",
        "print (math.gcd(5, 12))\n",
        "print (math.gcd(10, 0))\n",
        "print (math.gcd(0, 34))\n",
        "print (math.gcd(0, 0))"
      ],
      "metadata": {
        "colab": {
          "base_uri": "https://localhost:8080/"
        },
        "id": "XdhA8v7AfFyM",
        "outputId": "5d5b282c-ce31-4880-9f4b-5ca4e9363f92"
      },
      "execution_count": null,
      "outputs": [
        {
          "output_type": "stream",
          "name": "stdout",
          "text": [
            "3\n",
            "6\n",
            "12\n",
            "12\n",
            "1\n",
            "10\n",
            "34\n",
            "0\n"
          ]
        }
      ]
    },
    {
      "cell_type": "code",
      "source": [
        "import math\n",
        "print (math.isnan(56))\n",
        "print (math.isnan(-45.34))\n",
        "print (math.isnan(+45.34))\n",
        "print (math.isnan(math.inf))\n",
        "print (math.isnan(float(\"nan\")))\n",
        "print (math.isnan(float(\"inf\")))\n",
        "print (math.isnan(float(\"-inf\")))\n",
        "print (math.isnan(math.nan))\n"
      ],
      "metadata": {
        "colab": {
          "base_uri": "https://localhost:8080/"
        },
        "id": "a3_aBMrtfw84",
        "outputId": "e6a8d29c-9e46-47c6-f978-e9c5a5e6e0f7"
      },
      "execution_count": null,
      "outputs": [
        {
          "output_type": "stream",
          "name": "stdout",
          "text": [
            "False\n",
            "False\n",
            "False\n",
            "False\n",
            "True\n",
            "False\n",
            "False\n",
            "True\n"
          ]
        }
      ]
    },
    {
      "cell_type": "code",
      "source": [
        "import math\n",
        "print (math.sqrt(10))\n",
        "print (math.sqrt(12))\n",
        "print (math.sqrt(68))\n",
        "print (math.sqrt(100))\n",
        "#round square root downward to the nearest integer\n",
        "print (math.isqrt(10))\n",
        "print (math.isqrt(12))\n",
        "print (math.isqrt(68))\n",
        "print (math.isqrt(100))\n"
      ],
      "metadata": {
        "colab": {
          "base_uri": "https://localhost:8080/"
        },
        "id": "iC3NzKZDhFZB",
        "outputId": "dd5de818-86e3-41c1-cc04-48a76ba0ee55"
      },
      "execution_count": null,
      "outputs": [
        {
          "output_type": "stream",
          "name": "stdout",
          "text": [
            "3.1622776601683795\n",
            "3.4641016151377544\n",
            "8.246211251235321\n",
            "10.0\n",
            "3\n",
            "3\n",
            "8\n",
            "10\n"
          ]
        }
      ]
    },
    {
      "cell_type": "code",
      "source": [
        "import numpy as np\n",
        "arr=np.array([1, 2, 3, 4, 5])\n",
        "print(\"array using numpy\",arr)\n",
        "print(\"np.version=\",np.__version__)\n",
        "print(\"type=\",type(arr))"
      ],
      "metadata": {
        "colab": {
          "base_uri": "https://localhost:8080/"
        },
        "id": "gKTsE_oaiN3l",
        "outputId": "b4a9c55c-e048-42c2-ff9d-bda22317091f"
      },
      "execution_count": null,
      "outputs": [
        {
          "output_type": "stream",
          "name": "stdout",
          "text": [
            "array using numpy [1 2 3 4 5]\n",
            "np.version= 1.23.5\n",
            "type= <class 'numpy.ndarray'>\n"
          ]
        }
      ]
    },
    {
      "cell_type": "code",
      "source": [
        "arrtup=np.array((1,2,3,4,5))\n",
        "print(\"Array created using tuple datatype\",type(arrtup))\n",
        "a=np.array([42])\n",
        "b=np.array([1,2,3,4,5])\n",
        "c=np.array([[1,2,3],[4,5,6]])\n",
        "d=np.array([[[1,2,3],[4,5,6],[1,2,3]]])\n",
        "print(\"\\ndimensions in 0-D arry=\",a.ndim)\n",
        "print(\"\\n0-Dn\",a)\n",
        "print(\"\\ndimensions in 0-D arry=\",a.ndim)\n",
        "print(\"\\n0-Dn\",b)\n",
        "print(\"\\ndimensions in 0-D arry=\",a.ndim)\n",
        "print(\"\\n0-Dn\",c)\n",
        "print(\"\\ndimensions in 0-D arry=\",a.ndim)\n",
        "print(\"\\n0-Dn\",d)\n",
        "print(\"\\nIndexing b[0]=\",b[0])\n",
        "print(\"\\nIndexing of elements using Indexingb b[2]+b[3]=\",b[2]+b[3])\n",
        "print(\"\\narray slicing=\",b[0:3])\n",
        "print(\"\\narray slicing=\",b[3:])"
      ],
      "metadata": {
        "colab": {
          "base_uri": "https://localhost:8080/"
        },
        "id": "3dAaTzuAjC7u",
        "outputId": "b21ddf7f-b9e5-4bd2-88cc-8cdbd1f7bec8"
      },
      "execution_count": null,
      "outputs": [
        {
          "output_type": "stream",
          "name": "stdout",
          "text": [
            "Array created using tuple datatype <class 'numpy.ndarray'>\n",
            "\n",
            "dimensions in 0-D arry= 1\n",
            "\n",
            "0-Dn [42]\n",
            "\n",
            "dimensions in 0-D arry= 1\n",
            "\n",
            "0-Dn [1 2 3 4 5]\n",
            "\n",
            "dimensions in 0-D arry= 1\n",
            "\n",
            "0-Dn [[1 2 3]\n",
            " [4 5 6]]\n",
            "\n",
            "dimensions in 0-D arry= 1\n",
            "\n",
            "0-Dn [[[1 2 3]\n",
            "  [4 5 6]\n",
            "  [1 2 3]]]\n",
            "\n",
            "Indexing b[0]= 1\n",
            "\n",
            "Indexing of elements using Indexingb b[2]+b[3]= 7\n",
            "\n",
            "array slicing= [1 2 3]\n",
            "\n",
            "array slicing= [4 5]\n"
          ]
        }
      ]
    },
    {
      "cell_type": "code",
      "source": [
        "arrnum=np.array([1,2,3,4])\n",
        "print(arrnum.dtype)\n",
        "arralp = np.array(['apple','banana','mango'])\n",
        "print(arralp.dtype)\n",
        "x=b.copy()\n",
        "print(\"\\n x copy of b\\n\",x)"
      ],
      "metadata": {
        "colab": {
          "base_uri": "https://localhost:8080/"
        },
        "id": "LQTKqT9snORZ",
        "outputId": "d37053aa-7fa7-43a8-d780-5faa29ee885b"
      },
      "execution_count": null,
      "outputs": [
        {
          "output_type": "stream",
          "name": "stdout",
          "text": [
            "int64\n",
            "<U6\n",
            "\n",
            " x copy of b\n",
            " [1 2 3 4 5]\n"
          ]
        }
      ]
    },
    {
      "cell_type": "code",
      "source": [
        "from scipy import constants\n",
        "print(dir(constants))\n",
        "print(constants.pi)\n",
        "print(constants.giga)\n",
        "print(constants.mega)\n",
        "print(constants.kilo)\n",
        "print(constants.gram)\n",
        "print(constants.pound)"
      ],
      "metadata": {
        "colab": {
          "base_uri": "https://localhost:8080/"
        },
        "id": "NYd6DshBoUiC",
        "outputId": "56dadddf-e49c-4145-d153-6da3906662c7"
      },
      "execution_count": null,
      "outputs": [
        {
          "output_type": "stream",
          "name": "stdout",
          "text": [
            "['Avogadro', 'Boltzmann', 'Btu', 'Btu_IT', 'Btu_th', 'ConstantWarning', 'G', 'Julian_year', 'N_A', 'Planck', 'R', 'Rydberg', 'Stefan_Boltzmann', 'Wien', '__all__', '__builtins__', '__cached__', '__doc__', '__file__', '__loader__', '__name__', '__package__', '__path__', '__spec__', '_codata', '_constants', '_obsolete_constants', 'acre', 'alpha', 'angstrom', 'arcmin', 'arcminute', 'arcsec', 'arcsecond', 'astronomical_unit', 'atm', 'atmosphere', 'atomic_mass', 'atto', 'au', 'bar', 'barrel', 'bbl', 'blob', 'c', 'calorie', 'calorie_IT', 'calorie_th', 'carat', 'centi', 'codata', 'constants', 'convert_temperature', 'day', 'deci', 'degree', 'degree_Fahrenheit', 'deka', 'dyn', 'dyne', 'e', 'eV', 'electron_mass', 'electron_volt', 'elementary_charge', 'epsilon_0', 'erg', 'exa', 'exbi', 'femto', 'fermi', 'find', 'fine_structure', 'fluid_ounce', 'fluid_ounce_US', 'fluid_ounce_imp', 'foot', 'g', 'gallon', 'gallon_US', 'gallon_imp', 'gas_constant', 'gibi', 'giga', 'golden', 'golden_ratio', 'grain', 'gram', 'gravitational_constant', 'h', 'hbar', 'hectare', 'hecto', 'horsepower', 'hour', 'hp', 'inch', 'k', 'kgf', 'kibi', 'kilo', 'kilogram_force', 'kmh', 'knot', 'lambda2nu', 'lb', 'lbf', 'light_year', 'liter', 'litre', 'long_ton', 'm_e', 'm_n', 'm_p', 'm_u', 'mach', 'mebi', 'mega', 'metric_ton', 'micro', 'micron', 'mil', 'mile', 'milli', 'minute', 'mmHg', 'mph', 'mu_0', 'nano', 'nautical_mile', 'neutron_mass', 'nu2lambda', 'ounce', 'oz', 'parsec', 'pebi', 'peta', 'physical_constants', 'pi', 'pico', 'point', 'pound', 'pound_force', 'precision', 'proton_mass', 'psi', 'pt', 'quecto', 'quetta', 'ronna', 'ronto', 'short_ton', 'sigma', 'slinch', 'slug', 'speed_of_light', 'speed_of_sound', 'stone', 'survey_foot', 'survey_mile', 'tebi', 'tera', 'test', 'ton_TNT', 'torr', 'troy_ounce', 'troy_pound', 'u', 'unit', 'value', 'week', 'yard', 'year', 'yobi', 'yocto', 'yotta', 'zebi', 'zepto', 'zero_Celsius', 'zetta']\n",
            "3.141592653589793\n",
            "1000000000.0\n",
            "1000000.0\n",
            "1000.0\n",
            "0.001\n",
            "0.45359236999999997\n"
          ]
        }
      ]
    }
  ]
}